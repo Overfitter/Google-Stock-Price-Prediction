{
 "cells": [
  {
   "cell_type": "code",
   "execution_count": 1,
   "metadata": {
    "collapsed": true
   },
   "outputs": [],
   "source": [
    "# Recurrent Neural Network\n",
    "\n",
    "# Part 1 - Data Preprocessing\n",
    "\n",
    "# Importing the libraries\n",
    "import numpy as np\n",
    "import matplotlib.pyplot as plt\n",
    "import pandas as pd"
   ]
  },
  {
   "cell_type": "code",
   "execution_count": 5,
   "metadata": {
    "collapsed": false
   },
   "outputs": [
    {
     "data": {
      "text/html": [
       "<div>\n",
       "<style>\n",
       "    .dataframe thead tr:only-child th {\n",
       "        text-align: right;\n",
       "    }\n",
       "\n",
       "    .dataframe thead th {\n",
       "        text-align: left;\n",
       "    }\n",
       "\n",
       "    .dataframe tbody tr th {\n",
       "        vertical-align: top;\n",
       "    }\n",
       "</style>\n",
       "<table border=\"1\" class=\"dataframe\">\n",
       "  <thead>\n",
       "    <tr style=\"text-align: right;\">\n",
       "      <th></th>\n",
       "      <th>Date</th>\n",
       "      <th>Open</th>\n",
       "      <th>High</th>\n",
       "      <th>Low</th>\n",
       "      <th>Close</th>\n",
       "      <th>Volume</th>\n",
       "    </tr>\n",
       "  </thead>\n",
       "  <tbody>\n",
       "    <tr>\n",
       "      <th>0</th>\n",
       "      <td>1/3/2012</td>\n",
       "      <td>325.25</td>\n",
       "      <td>332.83</td>\n",
       "      <td>324.97</td>\n",
       "      <td>663.59</td>\n",
       "      <td>7,380,500</td>\n",
       "    </tr>\n",
       "    <tr>\n",
       "      <th>1</th>\n",
       "      <td>1/4/2012</td>\n",
       "      <td>331.27</td>\n",
       "      <td>333.87</td>\n",
       "      <td>329.08</td>\n",
       "      <td>666.45</td>\n",
       "      <td>5,749,400</td>\n",
       "    </tr>\n",
       "    <tr>\n",
       "      <th>2</th>\n",
       "      <td>1/5/2012</td>\n",
       "      <td>329.83</td>\n",
       "      <td>330.75</td>\n",
       "      <td>326.89</td>\n",
       "      <td>657.21</td>\n",
       "      <td>6,590,300</td>\n",
       "    </tr>\n",
       "    <tr>\n",
       "      <th>3</th>\n",
       "      <td>1/6/2012</td>\n",
       "      <td>328.34</td>\n",
       "      <td>328.77</td>\n",
       "      <td>323.68</td>\n",
       "      <td>648.24</td>\n",
       "      <td>5,405,900</td>\n",
       "    </tr>\n",
       "    <tr>\n",
       "      <th>4</th>\n",
       "      <td>1/9/2012</td>\n",
       "      <td>322.04</td>\n",
       "      <td>322.29</td>\n",
       "      <td>309.46</td>\n",
       "      <td>620.76</td>\n",
       "      <td>11,688,800</td>\n",
       "    </tr>\n",
       "  </tbody>\n",
       "</table>\n",
       "</div>"
      ],
      "text/plain": [
       "       Date    Open    High     Low   Close      Volume\n",
       "0  1/3/2012  325.25  332.83  324.97  663.59   7,380,500\n",
       "1  1/4/2012  331.27  333.87  329.08  666.45   5,749,400\n",
       "2  1/5/2012  329.83  330.75  326.89  657.21   6,590,300\n",
       "3  1/6/2012  328.34  328.77  323.68  648.24   5,405,900\n",
       "4  1/9/2012  322.04  322.29  309.46  620.76  11,688,800"
      ]
     },
     "execution_count": 5,
     "metadata": {},
     "output_type": "execute_result"
    }
   ],
   "source": [
    "# Importing the training set\n",
    "training_set = pd.read_csv('Google_Stock_Price_Train.csv')\n",
    "training_set.head()"
   ]
  },
  {
   "cell_type": "code",
   "execution_count": 6,
   "metadata": {
    "collapsed": false
   },
   "outputs": [],
   "source": [
    "training_set = training_set.iloc[:,1:2].values"
   ]
  },
  {
   "cell_type": "code",
   "execution_count": 7,
   "metadata": {
    "collapsed": false
   },
   "outputs": [
    {
     "data": {
      "text/plain": [
       "array([[ 325.25],\n",
       "       [ 331.27],\n",
       "       [ 329.83],\n",
       "       ..., \n",
       "       [ 793.7 ],\n",
       "       [ 783.33],\n",
       "       [ 782.75]])"
      ]
     },
     "execution_count": 7,
     "metadata": {},
     "output_type": "execute_result"
    }
   ],
   "source": [
    "training_set"
   ]
  },
  {
   "cell_type": "code",
   "execution_count": 8,
   "metadata": {
    "collapsed": true
   },
   "outputs": [],
   "source": [
    "# Feature Scaling\n",
    "from sklearn.preprocessing import MinMaxScaler\n",
    "sc = MinMaxScaler()\n",
    "training_set = sc.fit_transform(training_set)"
   ]
  },
  {
   "cell_type": "code",
   "execution_count": 11,
   "metadata": {
    "collapsed": false
   },
   "outputs": [
    {
     "data": {
      "text/plain": [
       "array([[ 0.08581368],\n",
       "       [ 0.09701243],\n",
       "       [ 0.09433366],\n",
       "       ..., \n",
       "       [ 0.95725128],\n",
       "       [ 0.93796041],\n",
       "       [ 0.93688146]])"
      ]
     },
     "execution_count": 11,
     "metadata": {},
     "output_type": "execute_result"
    }
   ],
   "source": [
    "training_set"
   ]
  },
  {
   "cell_type": "code",
   "execution_count": 12,
   "metadata": {
    "collapsed": false
   },
   "outputs": [
    {
     "data": {
      "text/plain": [
       "(1258, 1)"
      ]
     },
     "execution_count": 12,
     "metadata": {},
     "output_type": "execute_result"
    }
   ],
   "source": [
    "training_set.shape"
   ]
  },
  {
   "cell_type": "code",
   "execution_count": 13,
   "metadata": {
    "collapsed": true
   },
   "outputs": [],
   "source": [
    "# Getting the inputs and the ouputs\n",
    "X_train = training_set[0:1257]\n",
    "y_train = training_set[1:1258]"
   ]
  },
  {
   "cell_type": "code",
   "execution_count": 16,
   "metadata": {
    "collapsed": true
   },
   "outputs": [],
   "source": [
    "# Reshaping\n",
    "X_train = np.reshape(X_train, (1257, 1, 1))"
   ]
  },
  {
   "cell_type": "code",
   "execution_count": 17,
   "metadata": {
    "collapsed": false
   },
   "outputs": [
    {
     "data": {
      "text/plain": [
       "array([[[ 0.08581368]],\n",
       "\n",
       "       [[ 0.09701243]],\n",
       "\n",
       "       [[ 0.09433366]],\n",
       "\n",
       "       ..., \n",
       "       [[ 0.95163331]],\n",
       "\n",
       "       [[ 0.95725128]],\n",
       "\n",
       "       [[ 0.93796041]]])"
      ]
     },
     "execution_count": 17,
     "metadata": {},
     "output_type": "execute_result"
    }
   ],
   "source": [
    "X_train"
   ]
  },
  {
   "cell_type": "code",
   "execution_count": 18,
   "metadata": {
    "collapsed": false
   },
   "outputs": [
    {
     "name": "stderr",
     "output_type": "stream",
     "text": [
      "Using TensorFlow backend.\n"
     ]
    }
   ],
   "source": [
    "# Part 2 - Building the RNN\n",
    "\n",
    "# Importing the Keras libraries and packages\n",
    "from keras.models import Sequential\n",
    "from keras.layers import Dense\n",
    "from keras.layers import LSTM"
   ]
  },
  {
   "cell_type": "code",
   "execution_count": 19,
   "metadata": {
    "collapsed": true
   },
   "outputs": [],
   "source": [
    "# Initialising the RNN\n",
    "regressor = Sequential()"
   ]
  },
  {
   "cell_type": "code",
   "execution_count": 20,
   "metadata": {
    "collapsed": true
   },
   "outputs": [],
   "source": [
    "# Adding the input layer and the LSTM layer\n",
    "regressor.add(LSTM(units = 4, activation = 'sigmoid', input_shape = (None, 1)))"
   ]
  },
  {
   "cell_type": "code",
   "execution_count": 21,
   "metadata": {
    "collapsed": true
   },
   "outputs": [],
   "source": [
    "# Adding the output layer\n",
    "regressor.add(Dense(units = 1))"
   ]
  },
  {
   "cell_type": "code",
   "execution_count": 22,
   "metadata": {
    "collapsed": true
   },
   "outputs": [],
   "source": [
    "# Compiling the RNN\n",
    "regressor.compile(optimizer = 'adam', loss = 'mean_squared_error')"
   ]
  },
  {
   "cell_type": "code",
   "execution_count": 23,
   "metadata": {
    "collapsed": false
   },
   "outputs": [
    {
     "name": "stdout",
     "output_type": "stream",
     "text": [
      "Epoch 1/200\n",
      "1257/1257 [==============================] - 2s - loss: 0.4097     \n",
      "Epoch 2/200\n",
      "1257/1257 [==============================] - 0s - loss: 0.3068     \n",
      "Epoch 3/200\n",
      "1257/1257 [==============================] - 0s - loss: 0.2292     \n",
      "Epoch 4/200\n",
      "1257/1257 [==============================] - 0s - loss: 0.1723     \n",
      "Epoch 5/200\n",
      "1257/1257 [==============================] - 0s - loss: 0.1326     \n",
      "Epoch 6/200\n",
      "1257/1257 [==============================] - 0s - loss: 0.1055     \n",
      "Epoch 7/200\n",
      "1257/1257 [==============================] - 0s - loss: 0.0880     \n",
      "Epoch 8/200\n",
      "1257/1257 [==============================] - 0s - loss: 0.0773     \n",
      "Epoch 9/200\n",
      "1257/1257 [==============================] - 0s - loss: 0.0708     \n",
      "Epoch 10/200\n",
      "1257/1257 [==============================] - 0s - loss: 0.0672     \n",
      "Epoch 11/200\n",
      "1257/1257 [==============================] - 0s - loss: 0.0651     \n",
      "Epoch 12/200\n",
      "1257/1257 [==============================] - 0s - loss: 0.0637     \n",
      "Epoch 13/200\n",
      "1257/1257 [==============================] - 0s - loss: 0.0627     \n",
      "Epoch 14/200\n",
      "1257/1257 [==============================] - 0s - loss: 0.0618     \n",
      "Epoch 15/200\n",
      "1257/1257 [==============================] - 0s - loss: 0.0610     \n",
      "Epoch 16/200\n",
      "1257/1257 [==============================] - 0s - loss: 0.0602     \n",
      "Epoch 17/200\n",
      "1257/1257 [==============================] - 0s - loss: 0.0593     \n",
      "Epoch 18/200\n",
      "1257/1257 [==============================] - 0s - loss: 0.0585     \n",
      "Epoch 19/200\n",
      "1257/1257 [==============================] - 0s - loss: 0.0576     \n",
      "Epoch 20/200\n",
      "1257/1257 [==============================] - 0s - loss: 0.0567     \n",
      "Epoch 21/200\n",
      "1257/1257 [==============================] - 0s - loss: 0.0557     \n",
      "Epoch 22/200\n",
      "1257/1257 [==============================] - 0s - loss: 0.0547     \n",
      "Epoch 23/200\n",
      "1257/1257 [==============================] - 0s - loss: 0.0537     \n",
      "Epoch 24/200\n",
      "1257/1257 [==============================] - 0s - loss: 0.0527     \n",
      "Epoch 25/200\n",
      "1257/1257 [==============================] - 1s - loss: 0.0517     \n",
      "Epoch 26/200\n",
      "1257/1257 [==============================] - 0s - loss: 0.0506     \n",
      "Epoch 27/200\n",
      "1257/1257 [==============================] - 0s - loss: 0.0495     \n",
      "Epoch 28/200\n",
      "1257/1257 [==============================] - 0s - loss: 0.0483     \n",
      "Epoch 29/200\n",
      "1257/1257 [==============================] - 0s - loss: 0.0471     \n",
      "Epoch 30/200\n",
      "1257/1257 [==============================] - 0s - loss: 0.0460     \n",
      "Epoch 31/200\n",
      "1257/1257 [==============================] - 0s - loss: 0.0447     \n",
      "Epoch 32/200\n",
      "1257/1257 [==============================] - 0s - loss: 0.0435     \n",
      "Epoch 33/200\n",
      "1257/1257 [==============================] - 0s - loss: 0.0422     \n",
      "Epoch 34/200\n",
      "1257/1257 [==============================] - 0s - loss: 0.0409     \n",
      "Epoch 35/200\n",
      "1257/1257 [==============================] - 0s - loss: 0.0396     \n",
      "Epoch 36/200\n",
      "1257/1257 [==============================] - 0s - loss: 0.0383     \n",
      "Epoch 37/200\n",
      "1257/1257 [==============================] - 0s - loss: 0.0370     \n",
      "Epoch 38/200\n",
      "1257/1257 [==============================] - 0s - loss: 0.0357     \n",
      "Epoch 39/200\n",
      "1257/1257 [==============================] - 0s - loss: 0.0343     \n",
      "Epoch 40/200\n",
      "1257/1257 [==============================] - 0s - loss: 0.0329     \n",
      "Epoch 41/200\n",
      "1257/1257 [==============================] - 0s - loss: 0.0315     \n",
      "Epoch 42/200\n",
      "1257/1257 [==============================] - 0s - loss: 0.0301     \n",
      "Epoch 43/200\n",
      "1257/1257 [==============================] - 0s - loss: 0.0287     \n",
      "Epoch 44/200\n",
      "1257/1257 [==============================] - 0s - loss: 0.0273     \n",
      "Epoch 45/200\n",
      "1257/1257 [==============================] - 0s - loss: 0.0260     \n",
      "Epoch 46/200\n",
      "1257/1257 [==============================] - 0s - loss: 0.0246     \n",
      "Epoch 47/200\n",
      "1257/1257 [==============================] - 0s - loss: 0.0232     \n",
      "Epoch 48/200\n",
      "1257/1257 [==============================] - 0s - loss: 0.0219     \n",
      "Epoch 49/200\n",
      "1257/1257 [==============================] - 0s - loss: 0.0205     \n",
      "Epoch 50/200\n",
      "1257/1257 [==============================] - 0s - loss: 0.0192     \n",
      "Epoch 51/200\n",
      "1257/1257 [==============================] - 0s - loss: 0.0179     \n",
      "Epoch 52/200\n",
      "1257/1257 [==============================] - 0s - loss: 0.0166     \n",
      "Epoch 53/200\n",
      "1257/1257 [==============================] - 0s - loss: 0.0154     \n",
      "Epoch 54/200\n",
      "1257/1257 [==============================] - 0s - loss: 0.0143     \n",
      "Epoch 55/200\n",
      "1257/1257 [==============================] - 0s - loss: 0.0132     \n",
      "Epoch 56/200\n",
      "1257/1257 [==============================] - 0s - loss: 0.0121     \n",
      "Epoch 57/200\n",
      "1257/1257 [==============================] - 0s - loss: 0.0111     \n",
      "Epoch 58/200\n",
      "1257/1257 [==============================] - 0s - loss: 0.0102     \n",
      "Epoch 59/200\n",
      "1257/1257 [==============================] - 0s - loss: 0.0093     \n",
      "Epoch 60/200\n",
      "1257/1257 [==============================] - 0s - loss: 0.0084     \n",
      "Epoch 61/200\n",
      "1257/1257 [==============================] - 0s - loss: 0.0076     \n",
      "Epoch 62/200\n",
      "1257/1257 [==============================] - 0s - loss: 0.0069     \n",
      "Epoch 63/200\n",
      "1257/1257 [==============================] - 0s - loss: 0.0062     \n",
      "Epoch 64/200\n",
      "1257/1257 [==============================] - 0s - loss: 0.0055     \n",
      "Epoch 65/200\n",
      "1257/1257 [==============================] - 0s - loss: 0.0049     \n",
      "Epoch 66/200\n",
      "1257/1257 [==============================] - 0s - loss: 0.0044     \n",
      "Epoch 67/200\n",
      "1257/1257 [==============================] - 0s - loss: 0.0039     \n",
      "Epoch 68/200\n",
      "1257/1257 [==============================] - 0s - loss: 0.0034     \n",
      "Epoch 69/200\n",
      "1257/1257 [==============================] - 0s - loss: 0.0030     \n",
      "Epoch 70/200\n",
      "1257/1257 [==============================] - 0s - loss: 0.0026     \n",
      "Epoch 71/200\n",
      "1257/1257 [==============================] - 0s - loss: 0.0023     \n",
      "Epoch 72/200\n",
      "1257/1257 [==============================] - 0s - loss: 0.0020     \n",
      "Epoch 73/200\n",
      "1257/1257 [==============================] - 0s - loss: 0.0017     \n",
      "Epoch 74/200\n",
      "1257/1257 [==============================] - 0s - loss: 0.0015     \n",
      "Epoch 75/200\n",
      "1257/1257 [==============================] - 0s - loss: 0.0013     \n",
      "Epoch 76/200\n",
      "1257/1257 [==============================] - 0s - loss: 0.0011     \n",
      "Epoch 77/200\n",
      "1257/1257 [==============================] - 0s - loss: 0.0010         \n",
      "Epoch 78/200\n",
      "1257/1257 [==============================] - 0s - loss: 8.7569e-04     \n",
      "Epoch 79/200\n",
      "1257/1257 [==============================] - 0s - loss: 7.6852e-04     \n",
      "Epoch 80/200\n",
      "1257/1257 [==============================] - 0s - loss: 6.7711e-04     \n",
      "Epoch 81/200\n",
      "1257/1257 [==============================] - 0s - loss: 6.0037e-04     \n",
      "Epoch 82/200\n",
      "1257/1257 [==============================] - 0s - loss: 5.3673e-04     \n",
      "Epoch 83/200\n",
      "1257/1257 [==============================] - 0s - loss: 4.8329e-04     \n",
      "Epoch 84/200\n",
      "1257/1257 [==============================] - 0s - loss: 4.4017e-04     \n",
      "Epoch 85/200\n",
      "1257/1257 [==============================] - 0s - loss: 4.0340e-04     \n",
      "Epoch 86/200\n",
      "1257/1257 [==============================] - 0s - loss: 3.7488e-04     \n",
      "Epoch 87/200\n",
      "1257/1257 [==============================] - 0s - loss: 3.5116e-04     \n",
      "Epoch 88/200\n",
      "1257/1257 [==============================] - 0s - loss: 3.3153e-04     \n",
      "Epoch 89/200\n",
      "1257/1257 [==============================] - 0s - loss: 3.1660e-04     \n",
      "Epoch 90/200\n",
      "1257/1257 [==============================] - 0s - loss: 3.0389e-04     \n",
      "Epoch 91/200\n",
      "1257/1257 [==============================] - 0s - loss: 2.9435e-04     \n",
      "Epoch 92/200\n",
      "1257/1257 [==============================] - 0s - loss: 2.8718e-04     \n",
      "Epoch 93/200\n",
      "1257/1257 [==============================] - 0s - loss: 2.8068e-04     \n",
      "Epoch 94/200\n",
      "1257/1257 [==============================] - 0s - loss: 2.7598e-04     \n",
      "Epoch 95/200\n",
      "1257/1257 [==============================] - 0s - loss: 2.7269e-04     \n",
      "Epoch 96/200\n",
      "1257/1257 [==============================] - 0s - loss: 2.6956e-04     \n",
      "Epoch 97/200\n",
      "1257/1257 [==============================] - 0s - loss: 2.6773e-04     \n",
      "Epoch 98/200\n",
      "1257/1257 [==============================] - 0s - loss: 2.6654e-04     \n",
      "Epoch 99/200\n",
      "1257/1257 [==============================] - 0s - loss: 2.6479e-04     \n",
      "Epoch 100/200\n",
      "1257/1257 [==============================] - 0s - loss: 2.6472e-04     \n",
      "Epoch 101/200\n",
      "1257/1257 [==============================] - 0s - loss: 2.6352e-04     \n",
      "Epoch 102/200\n",
      "1257/1257 [==============================] - 0s - loss: 2.6294e-04     \n",
      "Epoch 103/200\n",
      "1257/1257 [==============================] - 0s - loss: 2.6220e-04     \n",
      "Epoch 104/200\n",
      "1257/1257 [==============================] - 0s - loss: 2.6159e-04     \n",
      "Epoch 105/200\n",
      "1257/1257 [==============================] - 0s - loss: 2.6145e-04     \n",
      "Epoch 106/200\n",
      "1257/1257 [==============================] - 0s - loss: 2.6143e-04     \n",
      "Epoch 107/200\n",
      "1257/1257 [==============================] - 0s - loss: 2.6133e-04     \n",
      "Epoch 108/200\n",
      "1257/1257 [==============================] - 0s - loss: 2.6104e-04     \n",
      "Epoch 109/200\n",
      "1257/1257 [==============================] - 0s - loss: 2.6098e-04     \n",
      "Epoch 110/200\n",
      "1257/1257 [==============================] - 0s - loss: 2.6053e-04     \n",
      "Epoch 111/200\n",
      "1257/1257 [==============================] - 0s - loss: 2.6023e-04     \n",
      "Epoch 112/200\n",
      "1257/1257 [==============================] - 0s - loss: 2.5998e-04     \n",
      "Epoch 113/200\n",
      "1257/1257 [==============================] - 0s - loss: 2.5976e-04     \n",
      "Epoch 114/200\n",
      "1257/1257 [==============================] - 0s - loss: 2.5973e-04     \n",
      "Epoch 115/200\n",
      "1257/1257 [==============================] - 0s - loss: 2.5971e-04     \n",
      "Epoch 116/200\n",
      "1257/1257 [==============================] - 0s - loss: 2.5933e-04     \n",
      "Epoch 117/200\n",
      "1257/1257 [==============================] - 0s - loss: 2.5978e-04     \n",
      "Epoch 118/200\n",
      "1257/1257 [==============================] - 0s - loss: 2.6049e-04     \n",
      "Epoch 119/200\n",
      "1257/1257 [==============================] - 0s - loss: 2.5863e-04     \n",
      "Epoch 120/200\n",
      "1257/1257 [==============================] - 0s - loss: 2.5850e-04     \n",
      "Epoch 121/200\n",
      "1257/1257 [==============================] - 0s - loss: 2.5882e-04     \n",
      "Epoch 122/200\n",
      "1257/1257 [==============================] - 0s - loss: 2.5890e-04     \n",
      "Epoch 123/200\n",
      "1257/1257 [==============================] - 0s - loss: 2.5773e-04     \n",
      "Epoch 124/200\n",
      "1257/1257 [==============================] - 0s - loss: 2.5798e-04     \n",
      "Epoch 125/200\n",
      "1257/1257 [==============================] - 0s - loss: 2.5773e-04     \n",
      "Epoch 126/200\n",
      "1257/1257 [==============================] - 0s - loss: 2.5662e-04     \n",
      "Epoch 127/200\n",
      "1257/1257 [==============================] - 0s - loss: 2.5625e-04     \n",
      "Epoch 128/200\n",
      "1257/1257 [==============================] - 0s - loss: 2.5498e-04     \n",
      "Epoch 129/200\n",
      "1257/1257 [==============================] - 0s - loss: 2.5658e-04     \n",
      "Epoch 130/200\n",
      "1257/1257 [==============================] - 0s - loss: 2.5664e-04     \n",
      "Epoch 131/200\n",
      "1257/1257 [==============================] - 0s - loss: 2.5481e-04     \n",
      "Epoch 132/200\n",
      "1257/1257 [==============================] - 0s - loss: 2.5576e-04     \n",
      "Epoch 133/200\n",
      "1257/1257 [==============================] - 0s - loss: 2.5486e-04     \n",
      "Epoch 134/200\n",
      "1257/1257 [==============================] - 0s - loss: 2.5493e-04     \n",
      "Epoch 135/200\n",
      "1257/1257 [==============================] - 0s - loss: 2.5546e-04     \n",
      "Epoch 136/200\n",
      "1257/1257 [==============================] - 0s - loss: 2.5450e-04     \n",
      "Epoch 137/200\n",
      "1257/1257 [==============================] - 0s - loss: 2.5422e-04     \n",
      "Epoch 138/200\n",
      "1257/1257 [==============================] - 0s - loss: 2.5436e-04     \n",
      "Epoch 139/200\n",
      "1257/1257 [==============================] - 0s - loss: 2.5678e-04     \n",
      "Epoch 140/200\n",
      "1257/1257 [==============================] - 0s - loss: 2.5555e-04     \n",
      "Epoch 141/200\n",
      "1257/1257 [==============================] - 0s - loss: 2.5445e-04     \n",
      "Epoch 142/200\n",
      "1257/1257 [==============================] - 0s - loss: 2.5378e-04     \n",
      "Epoch 143/200\n",
      "1257/1257 [==============================] - 0s - loss: 2.5317e-04     \n",
      "Epoch 144/200\n",
      "1257/1257 [==============================] - 0s - loss: 2.5346e-04     \n",
      "Epoch 145/200\n",
      "1257/1257 [==============================] - 0s - loss: 2.5352e-04     \n",
      "Epoch 146/200\n",
      "1257/1257 [==============================] - 0s - loss: 2.5397e-04     \n",
      "Epoch 147/200\n",
      "1257/1257 [==============================] - 0s - loss: 2.5340e-04     \n",
      "Epoch 148/200\n",
      "1257/1257 [==============================] - 0s - loss: 2.5366e-04     \n",
      "Epoch 149/200\n",
      "1257/1257 [==============================] - 0s - loss: 2.5291e-04     \n",
      "Epoch 150/200\n",
      "1257/1257 [==============================] - 0s - loss: 2.5216e-04     \n",
      "Epoch 151/200\n",
      "1257/1257 [==============================] - 0s - loss: 2.5229e-04     \n",
      "Epoch 152/200\n",
      "1257/1257 [==============================] - 0s - loss: 2.5217e-04     \n",
      "Epoch 153/200\n",
      "1257/1257 [==============================] - 0s - loss: 2.5171e-04     \n",
      "Epoch 154/200\n",
      "1257/1257 [==============================] - 0s - loss: 2.5437e-04     \n",
      "Epoch 155/200\n",
      "1257/1257 [==============================] - 0s - loss: 2.5225e-04     \n",
      "Epoch 156/200\n",
      "1257/1257 [==============================] - 0s - loss: 2.5167e-04     \n",
      "Epoch 157/200\n",
      "1257/1257 [==============================] - 0s - loss: 2.5050e-04     \n",
      "Epoch 158/200\n",
      "1257/1257 [==============================] - 0s - loss: 2.5979e-04     \n",
      "Epoch 159/200\n",
      "1257/1257 [==============================] - 0s - loss: 2.5152e-04     \n",
      "Epoch 160/200\n",
      "1257/1257 [==============================] - 0s - loss: 2.5134e-04     \n",
      "Epoch 161/200\n",
      "1257/1257 [==============================] - 0s - loss: 2.5422e-04     \n",
      "Epoch 162/200\n",
      "1257/1257 [==============================] - 0s - loss: 2.5012e-04     \n",
      "Epoch 163/200\n",
      "1257/1257 [==============================] - 0s - loss: 2.5241e-04     \n",
      "Epoch 164/200\n",
      "1257/1257 [==============================] - 0s - loss: 2.5182e-04     \n",
      "Epoch 165/200\n",
      "1257/1257 [==============================] - 0s - loss: 2.5048e-04     \n",
      "Epoch 166/200\n",
      "1257/1257 [==============================] - 0s - loss: 2.5151e-04     \n",
      "Epoch 167/200\n",
      "1257/1257 [==============================] - 0s - loss: 2.5231e-04     \n",
      "Epoch 168/200\n",
      "1257/1257 [==============================] - 0s - loss: 2.5040e-04     \n",
      "Epoch 169/200\n",
      "1257/1257 [==============================] - 0s - loss: 2.5265e-04     \n",
      "Epoch 170/200\n",
      "1257/1257 [==============================] - 0s - loss: 2.4979e-04     \n",
      "Epoch 171/200\n",
      "1257/1257 [==============================] - 0s - loss: 2.4936e-04     \n",
      "Epoch 172/200\n",
      "1257/1257 [==============================] - 0s - loss: 2.5053e-04     \n",
      "Epoch 173/200\n",
      "1257/1257 [==============================] - 0s - loss: 2.5038e-04     \n",
      "Epoch 174/200\n",
      "1257/1257 [==============================] - 0s - loss: 2.5059e-04     \n",
      "Epoch 175/200\n",
      "1257/1257 [==============================] - 0s - loss: 2.4916e-04     \n",
      "Epoch 176/200\n",
      "1257/1257 [==============================] - 0s - loss: 2.5018e-04     \n",
      "Epoch 177/200\n",
      "1257/1257 [==============================] - 0s - loss: 2.5037e-04     \n",
      "Epoch 178/200\n",
      "1257/1257 [==============================] - 0s - loss: 2.5007e-04     \n",
      "Epoch 179/200\n",
      "1257/1257 [==============================] - 0s - loss: 2.5059e-04     \n",
      "Epoch 180/200\n",
      "1257/1257 [==============================] - 0s - loss: 2.4976e-04     \n",
      "Epoch 181/200\n",
      "1257/1257 [==============================] - 0s - loss: 2.4984e-04     \n",
      "Epoch 182/200\n",
      "1257/1257 [==============================] - 0s - loss: 2.5210e-04     \n",
      "Epoch 183/200\n",
      "1257/1257 [==============================] - 0s - loss: 2.5096e-04     \n",
      "Epoch 184/200\n",
      "1257/1257 [==============================] - 0s - loss: 2.4880e-04     \n",
      "Epoch 185/200\n",
      "1257/1257 [==============================] - 0s - loss: 2.5000e-04     \n",
      "Epoch 186/200\n",
      "1257/1257 [==============================] - 0s - loss: 2.5014e-04     \n",
      "Epoch 187/200\n",
      "1257/1257 [==============================] - 0s - loss: 2.4936e-04     \n",
      "Epoch 188/200\n",
      "1257/1257 [==============================] - 0s - loss: 2.5062e-04     \n",
      "Epoch 189/200\n",
      "1257/1257 [==============================] - 0s - loss: 2.4939e-04     \n",
      "Epoch 190/200\n",
      "1257/1257 [==============================] - 0s - loss: 2.5588e-04     \n",
      "Epoch 191/200\n",
      "1257/1257 [==============================] - 0s - loss: 2.5236e-04     \n",
      "Epoch 192/200\n",
      "1257/1257 [==============================] - 0s - loss: 2.4834e-04     \n",
      "Epoch 193/200\n",
      "1257/1257 [==============================] - 0s - loss: 2.4964e-04     \n",
      "Epoch 194/200\n",
      "1257/1257 [==============================] - 0s - loss: 2.5120e-04     \n",
      "Epoch 195/200\n",
      "1257/1257 [==============================] - 0s - loss: 2.5174e-04     \n",
      "Epoch 196/200\n",
      "1257/1257 [==============================] - 0s - loss: 2.5034e-04     \n",
      "Epoch 197/200\n",
      "1257/1257 [==============================] - 0s - loss: 2.5111e-04     \n",
      "Epoch 198/200\n",
      "1257/1257 [==============================] - 0s - loss: 2.5177e-04     \n",
      "Epoch 199/200\n",
      "1257/1257 [==============================] - 0s - loss: 2.5006e-04     \n",
      "Epoch 200/200\n",
      "1257/1257 [==============================] - 0s - loss: 2.4860e-04     \n"
     ]
    },
    {
     "data": {
      "text/plain": [
       "<keras.callbacks.History at 0x1ce6aed4d30>"
      ]
     },
     "execution_count": 23,
     "metadata": {},
     "output_type": "execute_result"
    }
   ],
   "source": [
    "# Fitting the RNN to the Training set\n",
    "regressor.fit(X_train, y_train, batch_size = 32, epochs = 200)"
   ]
  },
  {
   "cell_type": "code",
   "execution_count": 24,
   "metadata": {
    "collapsed": true
   },
   "outputs": [],
   "source": [
    "# Part 3 - Making the predictions and visualising the results\n",
    "\n",
    "# Getting the real stock price of 2017\n",
    "test_set = pd.read_csv('Google_Stock_Price_Test.csv')\n",
    "real_stock_price = test_set.iloc[:,1:2].values"
   ]
  },
  {
   "cell_type": "code",
   "execution_count": 25,
   "metadata": {
    "collapsed": false
   },
   "outputs": [
    {
     "data": {
      "text/plain": [
       "(20, 1)"
      ]
     },
     "execution_count": 25,
     "metadata": {},
     "output_type": "execute_result"
    }
   ],
   "source": [
    "real_stock_price.shape"
   ]
  },
  {
   "cell_type": "code",
   "execution_count": 26,
   "metadata": {
    "collapsed": true
   },
   "outputs": [],
   "source": [
    "# Getting the predicted stock price of 2017\n",
    "inputs = real_stock_price\n",
    "inputs = sc.transform(inputs)\n",
    "inputs = np.reshape(inputs, (20, 1, 1))\n",
    "predicted_stock_price = regressor.predict(inputs)\n",
    "predicted_stock_price = sc.inverse_transform(predicted_stock_price)"
   ]
  },
  {
   "cell_type": "code",
   "execution_count": 27,
   "metadata": {
    "collapsed": false
   },
   "outputs": [
    {
     "data": {
      "image/png": "[encoded data removed]",
      "text/plain": [
       "<matplotlib.figure.Figure at 0x1ce6b001f60>"
      ]
     },
     "metadata": {},
     "output_type": "display_data"
    }
   ],
   "source": [
    "# Visualising the results\n",
    "plt.plot(real_stock_price, color = 'red', label = 'Real Google Stock Price')\n",
    "plt.plot(predicted_stock_price, color = 'blue', label = 'Predicted Google Stock Price')\n",
    "plt.title('Google Stock Price Prediction')\n",
    "plt.xlabel('Time')\n",
    "plt.ylabel('Google Stock Price')\n",
    "plt.legend()\n",
    "plt.show()"
   ]
  },
  {
   "cell_type": "code",
   "execution_count": 28,
   "metadata": {
    "collapsed": true
   },
   "outputs": [],
   "source": [
    "# Part 4 - Evaluating the RNN\n",
    "\n",
    "import math\n",
    "from sklearn.metrics import mean_squared_error\n",
    "rmse = math.sqrt(mean_squared_error(real_stock_price, predicted_stock_price))"
   ]
  },
  {
   "cell_type": "code",
   "execution_count": 29,
   "metadata": {
    "collapsed": false
   },
   "outputs": [
    {
     "data": {
      "text/plain": [
       "8.74831130894829"
      ]
     },
     "execution_count": 29,
     "metadata": {},
     "output_type": "execute_result"
    }
   ],
   "source": [
    "rmse"
   ]
  },
  {
   "cell_type": "code",
   "execution_count": null,
   "metadata": {
    "collapsed": true
   },
   "outputs": [],
   "source": []
  }
 ],
 "metadata": {
  "anaconda-cloud": {},
  "kernelspec": {
   "display_name": "Python [conda env:keras_tf]",
   "language": "python",
   "name": "conda-env-keras_tf-py"
  },
  "language_info": {
   "codemirror_mode": {
    "name": "ipython",
    "version": 3
   },
   "file_extension": ".py",
   "mimetype": "text/x-python",
   "name": "python",
   "nbconvert_exporter": "python",
   "pygments_lexer": "ipython3",
   "version": "3.5.3"
  }
 },
 "nbformat": 4,
 "nbformat_minor": 1
}
