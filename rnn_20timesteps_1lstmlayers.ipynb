{
 "cells": [
  {
   "cell_type": "code",
   "execution_count": 1,
   "metadata": {
    "collapsed": true
   },
   "outputs": [],
   "source": [
    "# Recurrent Neural Network\n",
    "\n",
    "# Part 1 - Data Preprocessing\n",
    "\n",
    "# Importing the libraries\n",
    "import numpy as np\n",
    "import matplotlib.pyplot as plt\n",
    "import pandas as pd"
   ]
  },
  {
   "cell_type": "code",
   "execution_count": 2,
   "metadata": {
    "collapsed": true
   },
   "outputs": [],
   "source": [
    "# Importing the training set\n",
    "dataset_train = pd.read_csv('Google_Stock_Price_Train.csv')\n",
    "training_set = dataset_train.iloc[:,1:2].values"
   ]
  },
  {
   "cell_type": "code",
   "execution_count": 3,
   "metadata": {
    "collapsed": true
   },
   "outputs": [],
   "source": [
    "# Feature Scaling\n",
    "from sklearn.preprocessing import MinMaxScaler\n",
    "sc = MinMaxScaler(feature_range = (0, 1))\n",
    "training_set_scaled = sc.fit_transform(training_set)"
   ]
  },
  {
   "cell_type": "code",
   "execution_count": 4,
   "metadata": {
    "collapsed": false
   },
   "outputs": [
    {
     "data": {
      "text/plain": [
       "array([[ 0.08581368],\n",
       "       [ 0.09701243],\n",
       "       [ 0.09433366],\n",
       "       ..., \n",
       "       [ 0.95725128],\n",
       "       [ 0.93796041],\n",
       "       [ 0.93688146]])"
      ]
     },
     "execution_count": 4,
     "metadata": {},
     "output_type": "execute_result"
    }
   ],
   "source": [
    "training_set_scaled"
   ]
  },
  {
   "cell_type": "code",
   "execution_count": 7,
   "metadata": {
    "collapsed": false
   },
   "outputs": [
    {
     "data": {
      "text/plain": [
       "array([ 0.08581368,  0.09701243,  0.09433366,  0.09156187,  0.07984225,\n",
       "        0.0643277 ,  0.0585423 ,  0.06568569,  0.06109085,  0.06639259,\n",
       "        0.0614257 ,  0.07474514,  0.02797827,  0.02379269,  0.02409033,\n",
       "        0.0159238 ,  0.01078949,  0.00967334,  0.01642607,  0.02100231])"
      ]
     },
     "execution_count": 7,
     "metadata": {},
     "output_type": "execute_result"
    }
   ],
   "source": [
    "training_set_scaled[0:20,0]"
   ]
  },
  {
   "cell_type": "code",
   "execution_count": 8,
   "metadata": {
    "collapsed": true
   },
   "outputs": [],
   "source": [
    "# Creating a data structure with 20 timesteps and t+1 output\n",
    "X_train = []\n",
    "y_train = []\n",
    "for i in range(20, 1258):\n",
    "    X_train.append(training_set_scaled[i-20:i, 0])\n",
    "    y_train.append(training_set_scaled[i, 0])\n",
    "X_train, y_train = np.array(X_train), np.array(y_train)"
   ]
  },
  {
   "cell_type": "code",
   "execution_count": 14,
   "metadata": {
    "collapsed": true
   },
   "outputs": [],
   "source": [
    "# Reshaping\n",
    "X_train = np.reshape(X_train, (X_train.shape[0], X_train.shape[1], 1))"
   ]
  },
  {
   "cell_type": "code",
   "execution_count": 15,
   "metadata": {
    "collapsed": false
   },
   "outputs": [
    {
     "name": "stderr",
     "output_type": "stream",
     "text": [
      "Using TensorFlow backend.\n"
     ]
    }
   ],
   "source": [
    "# Part 2 - Building the RNN\n",
    "\n",
    "# Importing the Keras libraries and packages\n",
    "from keras.models import Sequential\n",
    "from keras.layers import Dense\n",
    "from keras.layers import LSTM"
   ]
  },
  {
   "cell_type": "code",
   "execution_count": 16,
   "metadata": {
    "collapsed": true
   },
   "outputs": [],
   "source": [
    "# Initialising the RNN\n",
    "regressor = Sequential()"
   ]
  },
  {
   "cell_type": "code",
   "execution_count": 17,
   "metadata": {
    "collapsed": true
   },
   "outputs": [],
   "source": [
    "# Adding the input layer and the LSTM layer\n",
    "regressor.add(LSTM(units = 3, input_shape = (None, 1)))"
   ]
  },
  {
   "cell_type": "code",
   "execution_count": 18,
   "metadata": {
    "collapsed": true
   },
   "outputs": [],
   "source": [
    "# Adding the output layer\n",
    "regressor.add(Dense(units = 1))"
   ]
  },
  {
   "cell_type": "code",
   "execution_count": 19,
   "metadata": {
    "collapsed": true
   },
   "outputs": [],
   "source": [
    "# Compiling the RNN\n",
    "regressor.compile(optimizer = 'rmsprop', loss = 'mean_squared_error')"
   ]
  },
  {
   "cell_type": "code",
   "execution_count": 20,
   "metadata": {
    "collapsed": false,
    "scrolled": true
   },
   "outputs": [
    {
     "name": "stdout",
     "output_type": "stream",
     "text": [
      "Epoch 1/100\n",
      "1238/1238 [==============================] - 2s - loss: 0.4477     \n",
      "Epoch 2/100\n",
      "1238/1238 [==============================] - 0s - loss: 0.3194     \n",
      "Epoch 3/100\n",
      "1238/1238 [==============================] - 0s - loss: 0.2193     \n",
      "Epoch 4/100\n",
      "1238/1238 [==============================] - 0s - loss: 0.1402     \n",
      "Epoch 5/100\n",
      "1238/1238 [==============================] - 0s - loss: 0.0868     \n",
      "Epoch 6/100\n",
      "1238/1238 [==============================] - 0s - loss: 0.0596     \n",
      "Epoch 7/100\n",
      "1238/1238 [==============================] - 0s - loss: 0.0447     \n",
      "Epoch 8/100\n",
      "1238/1238 [==============================] - 1s - loss: 0.0316     \n",
      "Epoch 9/100\n",
      "1238/1238 [==============================] - 0s - loss: 0.0197     \n",
      "Epoch 10/100\n",
      "1238/1238 [==============================] - 0s - loss: 0.0103     \n",
      "Epoch 11/100\n",
      "1238/1238 [==============================] - 0s - loss: 0.0037     \n",
      "Epoch 12/100\n",
      "1238/1238 [==============================] - 0s - loss: 0.0012     \n",
      "Epoch 13/100\n",
      "1238/1238 [==============================] - 1s - loss: 8.3468e-04     \n",
      "Epoch 14/100\n",
      "1238/1238 [==============================] - 1s - loss: 7.5460e-04     \n",
      "Epoch 15/100\n",
      "1238/1238 [==============================] - 1s - loss: 6.9092e-04     \n",
      "Epoch 16/100\n",
      "1238/1238 [==============================] - 1s - loss: 6.3903e-04     \n",
      "Epoch 17/100\n",
      "1238/1238 [==============================] - 0s - loss: 6.0681e-04     \n",
      "Epoch 18/100\n",
      "1238/1238 [==============================] - 1s - loss: 5.6784e-04     \n",
      "Epoch 19/100\n",
      "1238/1238 [==============================] - 0s - loss: 5.5146e-04     \n",
      "Epoch 20/100\n",
      "1238/1238 [==============================] - 0s - loss: 5.3068e-04     \n",
      "Epoch 21/100\n",
      "1238/1238 [==============================] - 1s - loss: 5.1288e-04     \n",
      "Epoch 22/100\n",
      "1238/1238 [==============================] - 1s - loss: 5.0131e-04     \n",
      "Epoch 23/100\n",
      "1238/1238 [==============================] - 1s - loss: 4.9020e-04     \n",
      "Epoch 24/100\n",
      "1238/1238 [==============================] - 0s - loss: 4.9478e-04     \n",
      "Epoch 25/100\n",
      "1238/1238 [==============================] - 0s - loss: 4.7484e-04     \n",
      "Epoch 26/100\n",
      "1238/1238 [==============================] - 0s - loss: 4.6408e-04     \n",
      "Epoch 27/100\n",
      "1238/1238 [==============================] - 0s - loss: 4.5943e-04     \n",
      "Epoch 28/100\n",
      "1238/1238 [==============================] - 0s - loss: 4.5835e-04     \n",
      "Epoch 29/100\n",
      "1238/1238 [==============================] - 0s - loss: 4.5150e-04     \n",
      "Epoch 30/100\n",
      "1238/1238 [==============================] - 0s - loss: 4.4435e-04     \n",
      "Epoch 31/100\n",
      "1238/1238 [==============================] - 0s - loss: 4.4875e-04     \n",
      "Epoch 32/100\n",
      "1238/1238 [==============================] - 0s - loss: 4.3513e-04     \n",
      "Epoch 33/100\n",
      "1238/1238 [==============================] - 0s - loss: 4.3059e-04     \n",
      "Epoch 34/100\n",
      "1238/1238 [==============================] - 0s - loss: 4.2472e-04     \n",
      "Epoch 35/100\n",
      "1238/1238 [==============================] - 0s - loss: 4.2655e-04     \n",
      "Epoch 36/100\n",
      "1238/1238 [==============================] - 0s - loss: 4.1397e-04     \n",
      "Epoch 37/100\n",
      "1238/1238 [==============================] - 0s - loss: 4.1312e-04     \n",
      "Epoch 38/100\n",
      "1238/1238 [==============================] - 0s - loss: 4.0442e-04     \n",
      "Epoch 39/100\n",
      "1238/1238 [==============================] - 0s - loss: 4.0171e-04     \n",
      "Epoch 40/100\n",
      "1238/1238 [==============================] - 0s - loss: 4.0012e-04     \n",
      "Epoch 41/100\n",
      "1238/1238 [==============================] - 0s - loss: 3.8965e-04     \n",
      "Epoch 42/100\n",
      "1238/1238 [==============================] - 0s - loss: 3.9750e-04     \n",
      "Epoch 43/100\n",
      "1238/1238 [==============================] - 1s - loss: 3.9274e-04     \n",
      "Epoch 44/100\n",
      "1238/1238 [==============================] - 0s - loss: 3.9457e-04     \n",
      "Epoch 45/100\n",
      "1238/1238 [==============================] - 0s - loss: 3.7887e-04     \n",
      "Epoch 46/100\n",
      "1238/1238 [==============================] - 0s - loss: 3.8547e-04     \n",
      "Epoch 47/100\n",
      "1238/1238 [==============================] - 0s - loss: 3.8249e-04     \n",
      "Epoch 48/100\n",
      "1238/1238 [==============================] - 0s - loss: 3.7609e-04     \n",
      "Epoch 49/100\n",
      "1238/1238 [==============================] - 0s - loss: 3.7609e-04     \n",
      "Epoch 50/100\n",
      "1238/1238 [==============================] - 0s - loss: 3.7239e-04     \n",
      "Epoch 51/100\n",
      "1238/1238 [==============================] - 0s - loss: 3.6730e-04     \n",
      "Epoch 52/100\n",
      "1238/1238 [==============================] - 0s - loss: 3.7212e-04     \n",
      "Epoch 53/100\n",
      "1238/1238 [==============================] - 0s - loss: 3.6904e-04     \n",
      "Epoch 54/100\n",
      "1238/1238 [==============================] - 1s - loss: 3.6391e-04     \n",
      "Epoch 55/100\n",
      "1238/1238 [==============================] - 1s - loss: 3.6634e-04     \n",
      "Epoch 56/100\n",
      "1238/1238 [==============================] - 1s - loss: 3.6341e-04     \n",
      "Epoch 57/100\n",
      "1238/1238 [==============================] - 1s - loss: 3.7070e-04     \n",
      "Epoch 58/100\n",
      "1238/1238 [==============================] - 0s - loss: 3.6428e-04     \n",
      "Epoch 59/100\n",
      "1238/1238 [==============================] - 0s - loss: 3.4933e-04     \n",
      "Epoch 60/100\n",
      "1238/1238 [==============================] - 0s - loss: 3.5279e-04     \n",
      "Epoch 61/100\n",
      "1238/1238 [==============================] - 0s - loss: 3.4936e-04     \n",
      "Epoch 62/100\n",
      "1238/1238 [==============================] - 0s - loss: 3.5029e-04     \n",
      "Epoch 63/100\n",
      "1238/1238 [==============================] - 0s - loss: 3.4097e-04     \n",
      "Epoch 64/100\n",
      "1238/1238 [==============================] - 0s - loss: 3.4694e-04     \n",
      "Epoch 65/100\n",
      "1238/1238 [==============================] - 0s - loss: 3.3793e-04     \n",
      "Epoch 66/100\n",
      "1238/1238 [==============================] - 0s - loss: 3.3797e-04     \n",
      "Epoch 67/100\n",
      "1238/1238 [==============================] - 0s - loss: 3.3814e-04     \n",
      "Epoch 68/100\n",
      "1238/1238 [==============================] - 0s - loss: 3.3634e-04     \n",
      "Epoch 69/100\n",
      "1238/1238 [==============================] - 0s - loss: 3.3910e-04     \n",
      "Epoch 70/100\n",
      "1238/1238 [==============================] - 0s - loss: 3.2930e-04     \n",
      "Epoch 71/100\n",
      "1238/1238 [==============================] - 0s - loss: 3.2699e-04     \n",
      "Epoch 72/100\n",
      "1238/1238 [==============================] - 0s - loss: 3.2841e-04     \n",
      "Epoch 73/100\n",
      "1238/1238 [==============================] - 0s - loss: 3.2157e-04     \n",
      "Epoch 74/100\n",
      "1238/1238 [==============================] - 0s - loss: 3.2612e-04     \n",
      "Epoch 75/100\n",
      "1238/1238 [==============================] - 0s - loss: 3.2354e-04     \n",
      "Epoch 76/100\n",
      "1238/1238 [==============================] - 0s - loss: 3.1752e-04     \n",
      "Epoch 77/100\n",
      "1238/1238 [==============================] - 0s - loss: 3.1993e-04     \n",
      "Epoch 78/100\n",
      "1238/1238 [==============================] - 0s - loss: 3.1187e-04     \n",
      "Epoch 79/100\n",
      "1238/1238 [==============================] - 0s - loss: 3.0617e-04     \n",
      "Epoch 80/100\n",
      "1238/1238 [==============================] - 0s - loss: 3.0599e-04     \n",
      "Epoch 81/100\n",
      "1238/1238 [==============================] - 0s - loss: 3.1067e-04     \n",
      "Epoch 82/100\n",
      "1238/1238 [==============================] - 0s - loss: 3.0643e-04     \n",
      "Epoch 83/100\n",
      "1238/1238 [==============================] - 0s - loss: 3.0346e-04     \n",
      "Epoch 84/100\n",
      "1238/1238 [==============================] - 0s - loss: 3.0173e-04     \n",
      "Epoch 85/100\n",
      "1238/1238 [==============================] - 0s - loss: 3.0287e-04     \n",
      "Epoch 86/100\n",
      "1238/1238 [==============================] - 0s - loss: 3.0285e-04     \n",
      "Epoch 87/100\n",
      "1238/1238 [==============================] - 0s - loss: 3.0023e-04     \n",
      "Epoch 88/100\n",
      "1238/1238 [==============================] - 0s - loss: 2.9494e-04     \n",
      "Epoch 89/100\n",
      "1238/1238 [==============================] - 0s - loss: 2.9299e-04     \n",
      "Epoch 90/100\n",
      "1238/1238 [==============================] - 1s - loss: 2.9320e-04     \n",
      "Epoch 91/100\n",
      "1238/1238 [==============================] - 0s - loss: 2.9224e-04     \n",
      "Epoch 92/100\n",
      "1238/1238 [==============================] - 0s - loss: 2.9475e-04     \n",
      "Epoch 93/100\n",
      "1238/1238 [==============================] - 0s - loss: 2.8447e-04     \n",
      "Epoch 94/100\n",
      "1238/1238 [==============================] - 0s - loss: 2.9270e-04     \n",
      "Epoch 95/100\n",
      "1238/1238 [==============================] - 0s - loss: 2.8970e-04     \n",
      "Epoch 96/100\n",
      "1238/1238 [==============================] - 0s - loss: 2.9340e-04     \n",
      "Epoch 97/100\n",
      "1238/1238 [==============================] - 0s - loss: 2.8424e-04     \n",
      "Epoch 98/100\n",
      "1238/1238 [==============================] - 0s - loss: 2.9171e-04     \n",
      "Epoch 99/100\n",
      "1238/1238 [==============================] - 0s - loss: 2.8623e-04     \n",
      "Epoch 100/100\n",
      "1238/1238 [==============================] - 0s - loss: 2.8067e-04     \n"
     ]
    },
    {
     "data": {
      "text/plain": [
       "<keras.callbacks.History at 0x20857254e10>"
      ]
     },
     "execution_count": 20,
     "metadata": {},
     "output_type": "execute_result"
    }
   ],
   "source": [
    "# Fitting the RNN to the Training set\n",
    "regressor.fit(X_train, y_train, epochs = 100, batch_size = 32)"
   ]
  },
  {
   "cell_type": "code",
   "execution_count": 21,
   "metadata": {
    "collapsed": true
   },
   "outputs": [],
   "source": [
    "# Part 3 - Making the predictions and visualising the results\n",
    "\n",
    "# Getting the real stock price for February 1st 2012 - January 31st 2017\n",
    "dataset_test = pd.read_csv('Google_Stock_Price_Test.csv')\n",
    "test_set = dataset_test.iloc[:,1:2].values\n",
    "real_stock_price = np.concatenate((training_set[0:1258], test_set), axis = 0)"
   ]
  },
  {
   "cell_type": "code",
   "execution_count": null,
   "metadata": {
    "collapsed": true
   },
   "outputs": [],
   "source": []
  }
 ],
 "metadata": {
  "kernelspec": {
   "display_name": "Python [conda env:keras_tf]",
   "language": "python",
   "name": "conda-env-keras_tf-py"
  },
  "language_info": {
   "codemirror_mode": {
    "name": "ipython",
    "version": 3
   },
   "file_extension": ".py",
   "mimetype": "text/x-python",
   "name": "python",
   "nbconvert_exporter": "python",
   "pygments_lexer": "ipython3",
   "version": "3.5.3"
  }
 },
 "nbformat": 4,
 "nbformat_minor": 1
}
